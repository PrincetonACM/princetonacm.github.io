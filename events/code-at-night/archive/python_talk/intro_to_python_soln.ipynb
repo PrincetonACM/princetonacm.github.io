{
 "cells": [
  {
   "cell_type": "markdown",
   "id": "173bdfb9",
   "metadata": {},
   "source": [
    "# Python 3 Tutorial Notebook"
   ]
  },
  {
   "cell_type": "markdown",
   "id": "068cbd92",
   "metadata": {},
   "source": [
    "We'll be using this notebook to follow the slides from the workshop. You can also use it to experiment with Python yourself! Simply add a cell wherever you want, type in some Python code, and see what happens!"
   ]
  },
  {
   "cell_type": "markdown",
   "id": "698d5cf0",
   "metadata": {},
   "source": [
    "##  Topic 1: Printing"
   ]
  },
  {
   "cell_type": "markdown",
   "id": "e98b3475",
   "metadata": {},
   "source": [
    "### 1.1 Printing Basics"
   ]
  },
  {
   "cell_type": "code",
   "execution_count": 2,
   "id": "069d08f2",
   "metadata": {},
   "outputs": [
    {
     "name": "stdout",
     "output_type": "stream",
     "text": [
      "hello world\n"
     ]
    }
   ],
   "source": [
    "# When a line begins with a '#' character, it designates a comment. This means that it's not actually a line of code\n",
    "\n",
    "# This is how you say hello world\n",
    "print('hello world')"
   ]
  },
  {
   "cell_type": "code",
   "execution_count": 119,
   "id": "86f8d0be",
   "metadata": {},
   "outputs": [
    {
     "name": "stdout",
     "output_type": "stream",
     "text": [
      "                    ========\n",
      "                    |      |\n",
      "             ===============\n",
      "             |      |      |\n",
      "      ======================\n"
     ]
    }
   ],
   "source": [
    "# Can you make Python print the staircase below:\n",
    "#\n",
    "#                    ========\n",
    "#                    |      |\n",
    "#             ===============      \n",
    "#             |      |      |\n",
    "#      ======================\n",
    "\n",
    "print('                    ========')\n",
    "print('                    |      |')\n",
    "print('             ===============')\n",
    "print('             |      |      |')\n",
    "print('      ======================')"
   ]
  },
  {
   "cell_type": "markdown",
   "id": "602dbdad",
   "metadata": {},
   "source": [
    "### 1.2 Some other useful printing tips/tricks"
   ]
  },
  {
   "cell_type": "code",
   "execution_count": 6,
   "id": "f554f941",
   "metadata": {},
   "outputs": [
    {
     "name": "stdout",
     "output_type": "stream",
     "text": [
      "hello world i go to princeton\n"
     ]
    }
   ],
   "source": [
    "# The print(...) function can accept as many arguments as you'd like. It prints the arguments\n",
    "# in order, separated by a space. For example...\n",
    "\n",
    "print('hello', 'world', 'i', 'go', 'to', 'princeton')"
   ]
  },
  {
   "cell_type": "code",
   "execution_count": 8,
   "id": "4f2419de",
   "metadata": {},
   "outputs": [
    {
     "name": "stdout",
     "output_type": "stream",
     "text": [
      "hello --> world --> i --> go --> to --> princeton\n"
     ]
    }
   ],
   "source": [
    "# You can change the delimiter that separates the comma-separated arguments by changing the 'sep' parameter:\n",
    "\n",
    "print('hello', 'world', 'i', 'go', 'to', 'princeton', sep=' --> ')"
   ]
  },
  {
   "cell_type": "code",
   "execution_count": 10,
   "id": "ae31ea63",
   "metadata": {},
   "outputs": [
    {
     "name": "stdout",
     "output_type": "stream",
     "text": [
      "hello princeton\n",
      "ACM is so cool :)"
     ]
    }
   ],
   "source": [
    "# By default, python adds a newline to the end of any statement you print. However, you can change this\n",
    "# by changing the 'end' parameter. For example...\n",
    "\n",
    "# Here we've told Python to print 'hello world' and then an empty string. This effectively \n",
    "# removes the newline that Python adds by default.\n",
    "print('hello prince', end='')\n",
    "\n",
    "# The next line that we print then begins immediately after the previous thing we printed.\n",
    "print('ton')\n",
    "\n",
    "# We can also end our lines with something more exotic\n",
    "print('ACM is so cool', end=' :)')"
   ]
  },
  {
   "cell_type": "markdown",
   "id": "4dc24edf",
   "metadata": {},
   "source": [
    "## Topic 2: Variables, Basic Operators, and Data Types"
   ]
  },
  {
   "cell_type": "markdown",
   "id": "6124d137",
   "metadata": {},
   "source": [
    "### 2.1 Playing with Numbers"
   ]
  },
  {
   "cell_type": "markdown",
   "id": "a017b2b1",
   "metadata": {},
   "source": [
    "For a description of all the operators that exist in Python, you can visit https://www.tutorialspoint.com/python/python_basic_operators.htm."
   ]
  },
  {
   "cell_type": "code",
   "execution_count": 1,
   "id": "0a3717cf",
   "metadata": {},
   "outputs": [
    {
     "name": "stdout",
     "output_type": "stream",
     "text": [
      "September 17 2021 was a Friday\n"
     ]
    }
   ],
   "source": [
    "# What does the following snippet of code do?\n",
    "\n",
    "day = 24\n",
    "month = 'September'\n",
    "year = '2021'\n",
    "dotw = 'Friday'\n",
    "\n",
    "print(month, day - 7, year, 'was a', dotw)\n",
    "\n",
    "# Explanation: Tells us that the day 7 days ago was the same day of the week as today. The more you know...?"
   ]
  },
  {
   "cell_type": "code",
   "execution_count": 14,
   "id": "0daab14d",
   "metadata": {},
   "outputs": [
    {
     "name": "stdout",
     "output_type": "stream",
     "text": [
      "20\n"
     ]
    }
   ],
   "source": [
    "age_in_weeks = 1057\n",
    "\n",
    "# What's the difference between the two statements below? Comment one of them out to check yourself!\n",
    "age_in_years = 1057 / 52\n",
    "age_in_years = 1057 // 52\n",
    "\n",
    "print(age_in_years)\n",
    "\n",
    "# Explanation: The '/' operator does float division in Python by default, while the '//' operator does\n",
    "# integer division (i.e. it returns the decimal answer, ALWAYS rounded down to an integer)"
   ]
  },
  {
   "cell_type": "code",
   "execution_count": 16,
   "id": "20a42d86",
   "metadata": {},
   "outputs": [
    {
     "name": "stdout",
     "output_type": "stream",
     "text": [
      "36\n"
     ]
    }
   ],
   "source": [
    "# Try to calculate the following in your head and see if your answer matches what Python says\n",
    "\n",
    "mystery = 2 ** 4 * 3 ** 2 % 7 * (2 + 7)\n",
    "print(mystery)\n",
    "\n",
    "# Explanation: First evaluate anything in parentheses, then do the exponents, then do multiplication/modulo \n",
    "# FROM LEFT TO RIGHT. So\n",
    "# 2 ** 4 * 3 ** 2 % 7 * (2 + 7) = 2 ** 4 * 3 ** 2 % 7 * 9 = 16 * 9 % 7 * 9 = 144 % 7 * 9 = 4 * 9 = 36"
   ]
  },
  {
   "cell_type": "code",
   "execution_count": 45,
   "id": "ec9fdcdf",
   "metadata": {},
   "outputs": [
    {
     "name": "stdout",
     "output_type": "stream",
     "text": [
      "86 degrees farenheit = 30.0 degrees celsius = 303.0 kelvin\n"
     ]
    }
   ],
   "source": [
    "# Write a function that converts a given temperature in Farenheit to Celsius and Kelvin\n",
    "# The relevant formulas are (degrees Celsius) = (degrees Farenheit - 32) * 5 / 9\n",
    "# and (Kelvin) = (degrees Celsius + 273)\n",
    "\n",
    "farenheit = 86 # Change the value here to test your solution\n",
    "celsius = (farenheit - 32) * 5 / 9\n",
    "kelvin = celsius + 273\n",
    "\n",
    "print(farenheit, 'degrees farenheit =', celsius, 'degrees celsius =', kelvin, 'kelvin')"
   ]
  },
  {
   "cell_type": "markdown",
   "id": "dbff63fb",
   "metadata": {},
   "source": [
    "### 2.2 Playing with Strings"
   ]
  },
  {
   "cell_type": "code",
   "execution_count": 6,
   "id": "595a5af6",
   "metadata": {},
   "outputs": [
    {
     "name": "stdout",
     "output_type": "stream",
     "text": [
      "Tom Cruise is 9 outta 10\n"
     ]
    }
   ],
   "source": [
    "# You are given the following string:\n",
    "a = 'Thomas Cruise'\n",
    "\n",
    "# Your job is to put the phrase 'Tom Cruise is 9 outta 10' into variable b using ONLY operations on string a.\n",
    "# You may not concatenate letters or strings of your own. HINT: You can use the str(...) function to convert\n",
    "# numerical values into strings so that you can concatenate it with another string\n",
    "b = a[0] + a[2:4] + a[6:] + a[6] + a[10:12] + a[6] + str(a.find('u')) + a[6] + a[2] + a[9] + \\\n",
    "                                            (a[0].lower() * 2) + a[4] + a[6] + str(a.find('i'))\n",
    "\n",
    "print(b)"
   ]
  },
  {
   "cell_type": "code",
   "execution_count": 41,
   "id": "0dd726e7",
   "metadata": {},
   "outputs": [
    {
     "name": "stdout",
     "output_type": "stream",
     "text": [
      "Input first word:\n",
      "Nalin\n",
      "Input second word:\n",
      "late meal\n",
      "Input third word:\n",
      "scooters everywhere\n",
      "Input fourth word:\n",
      "hammers\n",
      "\n",
      "Your mad libs is: \n",
      "Hi, my name is Nalin.\n",
      "One thing that I love about Princeton is late meal.\n",
      "One pet peeve I have about Princeton is scooters everywhere, but it's OK because I have hammers.\n"
     ]
    }
   ],
   "source": [
    "# Practice with string formatting with mad libs! For this, you'll need to know \n",
    "# how to receive input. It's really easy in Python:\n",
    "\n",
    "word_1 = input('Input first word:\\n') # This prompts the user with the phrase 'Input first word'\n",
    "                                      # and stores the result in the variable word_1\n",
    "word_2 = input('Input second word:\\n')\n",
    "word_3 = input('Input third word:\\n')\n",
    "word_4 = input('Input fourth word:\\n')\n",
    "\n",
    "# You want to print the following mad libs:\n",
    "#\n",
    "# Hi, my name is [first phrase]. \n",
    "# One thing that I love about Princeton is [second phrase].\n",
    "# One pet peeve I have about Princeton is [third phrase], but I can get over it because I have [fourth phrase].\n",
    "# \n",
    "# For the last sentence, use one print statement to print it!\n",
    "\n",
    "print('\\nYour mad libs is: ')\n",
    "print('Hi, my name is {}.'.format(word_1))\n",
    "print('One thing that I love about Princeton is {}.'.format(word_2))\n",
    "print('One pet peeve I have about Princeton is {}, but it\\'s OK because I have {}.'.format(word_3, word_4))"
   ]
  },
  {
   "cell_type": "markdown",
   "id": "656d0012",
   "metadata": {},
   "source": [
    "### 2.3 Playing with Booleans"
   ]
  },
  {
   "cell_type": "code",
   "execution_count": 32,
   "id": "edf455a3",
   "metadata": {},
   "outputs": [
    {
     "name": "stdout",
     "output_type": "stream",
     "text": [
      "True\n"
     ]
    }
   ],
   "source": [
    "# Your objective is to write a boolean formula in Python that takes three boolean variables (a, b, c)\n",
    "# and returns True if and only if exactly one of them is True. This is called the xor of the variables\n",
    "\n",
    "# Toggle these to test your formula\n",
    "a = False\n",
    "b = True\n",
    "c = False\n",
    "\n",
    "# Write your formula here\n",
    "xor = (a and not b and not c) or (not a and b and not c) or (not a and not b and c)\n",
    "print(xor)"
   ]
  },
  {
   "cell_type": "markdown",
   "id": "f4b1cdd9",
   "metadata": {},
   "source": [
    "### 2.4 Mixing Types"
   ]
  },
  {
   "cell_type": "code",
   "execution_count": 35,
   "id": "a099e601",
   "metadata": {},
   "outputs": [
    {
     "name": "stdout",
     "output_type": "stream",
     "text": [
      "bool(3) = True\n",
      "bool(0) = False\n",
      "bool(\"\") = False\n",
      "bool(\" \") = True\n",
      "bool(False) = False\n",
      "bool(True) = True\n"
     ]
    }
   ],
   "source": [
    "# In Python, data types are divided into two categories: truthy and falsy. Falsy values include anything\n",
    "# (strings, lists, etc.) that is empty, the special value None, any zero number, and the boolean False. \n",
    "# You can use the bool(...) function to check whether a value is truthy or falsy:\n",
    "\n",
    "print('bool(3) =', bool(3))\n",
    "print('bool(0) =', bool(0))\n",
    "print('bool(\"\") =', bool(''))\n",
    "print('bool(\" \") =', bool(' '))\n",
    "print('bool(False) =', bool(False))\n",
    "print('bool(True) =', bool(True))"
   ]
  },
  {
   "cell_type": "markdown",
   "id": "cb5ff6db",
   "metadata": {},
   "source": [
    "## Topic 3: If Statements, Ranges, and Loops"
   ]
  },
  {
   "cell_type": "markdown",
   "id": "5708f62d",
   "metadata": {},
   "source": [
    "### 3.1 Practice with the Basics"
   ]
  },
  {
   "cell_type": "code",
   "execution_count": 49,
   "id": "be4ef675",
   "metadata": {},
   "outputs": [
    {
     "name": "stdout",
     "output_type": "stream",
     "text": [
      "5 is divisible by 5\n",
      "5 is positive\n",
      "\n",
      "5 is divisible by 5\n"
     ]
    }
   ],
   "source": [
    "x = 5\n",
    "\n",
    "# What is the difference between this snippet of code:\n",
    "\n",
    "if x % 2 == 0:\n",
    "    print(x, 'is even')\n",
    "if x % 5 == 0:\n",
    "    print(x, 'is divisible by 5')\n",
    "if x > 0:\n",
    "    print(x, 'is positive')\n",
    "    \n",
    "print()\n",
    "    \n",
    "# And this one:\n",
    "if x % 2 == 0:\n",
    "    print(x, 'is even')\n",
    "elif x % 5 == 0:\n",
    "    print(x, 'is divisible by 5')\n",
    "elif x > 0:\n",
    "    print(x, 'is positive')\n",
    "    \n",
    "# Explanation: the elif will only execute if all statements in the block above evaluated to false.\n",
    "# In the second block, the first if statement evaluates to false, so the first elif's condition is\n",
    "# tested. It is true, so then the second elif will not execute.\n",
    "\n",
    "# Follow-up: An if statement starts its own new block. So the first snippet of code is actually\n",
    "# three if statement blocks."
   ]
  },
  {
   "cell_type": "code",
   "execution_count": 52,
   "id": "e1eea750",
   "metadata": {},
   "outputs": [
    {
     "name": "stdout",
     "output_type": "stream",
     "text": [
      "1\n",
      "2\n",
      "Fizz\n",
      "4\n",
      "Buzz\n",
      "Fizz\n",
      "7\n",
      "8\n",
      "Fizz\n",
      "Buzz\n",
      "11\n",
      "Fizz\n",
      "13\n",
      "14\n",
      "FizzBuzz\n",
      "16\n",
      "17\n",
      "Fizz\n",
      "19\n",
      "Buzz\n",
      "Fizz\n",
      "22\n",
      "23\n",
      "Fizz\n",
      "Buzz\n",
      "26\n",
      "Fizz\n",
      "28\n",
      "29\n",
      "FizzBuzz\n",
      "31\n",
      "32\n",
      "Fizz\n",
      "34\n",
      "Buzz\n",
      "Fizz\n",
      "37\n",
      "38\n",
      "Fizz\n",
      "Buzz\n",
      "41\n",
      "Fizz\n",
      "43\n",
      "44\n",
      "FizzBuzz\n",
      "46\n",
      "47\n",
      "Fizz\n",
      "49\n",
      "Buzz\n"
     ]
    }
   ],
   "source": [
    "# FizzBuzz is a very well-known programming challenge. It's quite easy, but it can trip up people\n",
    "# who are trying to look for shortcuts to solving the problem. The problem is as follows:\n",
    "# \n",
    "# For every number k in order from 1 to 50, print\n",
    "# - 'FizzBuzz' if the number is divisible by 3 and 5\n",
    "# - 'Fizz' if the number is only divisible by 3\n",
    "# - 'Buzz' if the number is only divisble by 5\n",
    "# - the value of k if none of the above options hold\n",
    "#\n",
    "# Your task is to write a snippet of code that solves FizzBuzz.\n",
    "\n",
    "for i in range(1, 51):\n",
    "    div3 = ((i % 3) == 0)\n",
    "    div5 = ((i % 5) == 0)\n",
    "    \n",
    "    if div3:\n",
    "        if div5: print('FizzBuzz')\n",
    "        else: print('Fizz')\n",
    "    elif div5:\n",
    "        print('Buzz')\n",
    "    else: print(i)"
   ]
  },
  {
   "cell_type": "markdown",
   "id": "69800e1b",
   "metadata": {},
   "source": [
    "### 3.2 Ternary Statements in Python"
   ]
  },
  {
   "cell_type": "code",
   "execution_count": 3,
   "id": "0127606b",
   "metadata": {},
   "outputs": [
    {
     "name": "stdout",
     "output_type": "stream",
     "text": [
      "Wawa\n"
     ]
    }
   ],
   "source": [
    "# The following if statement construct is so common it has a name ('ternary statement'):\n",
    "#\n",
    "# if (condition): \n",
    "#    x = something1\n",
    "# elif (condition2):\n",
    "#    x = something2\n",
    "# else:\n",
    "#    x = something3\n",
    "#\n",
    "# In python, this can be shortened into a one-liner:\n",
    "#\n",
    "# x = something else something2 if (condition2) else something3\n",
    "#\n",
    "# And this works for an arbitrary number of elif statements in between the initial if and final else.\n",
    "\n",
    "# Can you convert the following block into a one-liner?\n",
    "budget = 3\n",
    "if budget > 50:\n",
    "    restaurant = 'Agricola'\n",
    "elif budget > 30:\n",
    "    restaurant = 'Mediterra'\n",
    "elif budget > 15:\n",
    "    restaurant = 'Thai Village'\n",
    "else:\n",
    "    retaurant = 'Wawa'\n",
    "    \n",
    "# Write your solution below:\n",
    "restaurant = 'Agricola' if budget > 50 else 'Mediterra' if budget > 30 \\\n",
    "                                else 'Thai Village' if budget > 15 else 'Wawa'\n",
    "\n",
    "print(restaurant)"
   ]
  },
  {
   "cell_type": "markdown",
   "id": "e738967e",
   "metadata": {},
   "source": [
    "### 3.3 Practice with While Loops"
   ]
  },
  {
   "cell_type": "code",
   "execution_count": 1,
   "id": "2937bcc0",
   "metadata": {},
   "outputs": [
    {
     "name": "stdout",
     "output_type": "stream",
     "text": [
      "Guess a number:\n",
      "50\n",
      "Nope. Guess was too high!\n",
      "25\n",
      "Nope. Guess was too low!\n",
      "37\n",
      "Nope. Guess was too high!\n",
      "31\n",
      "Nope. Guess was too low!\n",
      "34\n",
      "Nope. Guess was too low!\n",
      "36\n",
      "Nope. Guess was too high!\n",
      "35\n",
      "You got it!\n"
     ]
    }
   ],
   "source": [
    "# Your job is to create a 'guessing game' where the program thinks of an integer from 1 to 50\n",
    "# and will keep prompting you for a guess. It'll tell you each time whether your guess is\n",
    "# too high or too low until you find the number.\n",
    "\n",
    "# Don't touch these two lines of code; they choose a random number between 1 and 50\n",
    "# and store it in mystery_num\n",
    "from random import randint\n",
    "mystery_num = randint(1, 100)\n",
    "\n",
    "# Write your guessing game below:\n",
    "guess = int(input('Guess a number:\\n')) # First guess; don't forget to convert it to an int!\n",
    "while mystery_num != guess:\n",
    "    if guess > mystery_num: guess = int(input('Nope. Guess was too high!\\n'))\n",
    "    elif guess < mystery_num: guess = int(input('Nope. Guess was too low!\\n'))\n",
    "\n",
    "print('You got it!')\n",
    "\n",
    "# Follow-up: Using the best strategy, what's the worst-case number of guesses you should need?"
   ]
  },
  {
   "cell_type": "markdown",
   "id": "b975834b",
   "metadata": {},
   "source": [
    "## Topic 4: Data Structures in Python"
   ]
  },
  {
   "cell_type": "markdown",
   "id": "6484f6cc",
   "metadata": {},
   "source": [
    "### 4.1 Sequences"
   ]
  },
  {
   "cell_type": "markdown",
   "id": "f6ba8333",
   "metadata": {},
   "source": [
    "Strings, tuples, and lists are all considered *sequences* in Python, which is why there are many operations that work on all three of them."
   ]
  },
  {
   "cell_type": "markdown",
   "id": "d6544a85",
   "metadata": {},
   "source": [
    "#### 4.1.1 Iterating"
   ]
  },
  {
   "cell_type": "code",
   "execution_count": 26,
   "id": "efc65628",
   "metadata": {},
   "outputs": [
    {
     "name": "stdout",
     "output_type": "stream",
     "text": [
      "rhythm has no vowels\n",
      "owl has a vowel\n",
      "hymn has no vowels\n",
      "aardvark has a vowel\n"
     ]
    }
   ],
   "source": [
    "# When at the top of a loop, the 'in' keyword in Python will iterate through all of the sequence's \n",
    "# members in order. For strings, members are individual characters; for lists and tuples, they're \n",
    "# the items contained.\n",
    "\n",
    "# Task: Given a list of lowercase words, print whether the word has a vowel. Example: if the input is\n",
    "# ['rhythm', 'owl', 'hymn', 'aardvark'], you should output the following:\n",
    "# rhythm has no vowels\n",
    "# owl has a vowel\n",
    "# hymn has no vowels\n",
    "# aardvark has a vowel\n",
    "\n",
    "# HINT: The 'in' keyword can also test whether something is a member of another object.\n",
    "# Also, don't forget about break and continue!\n",
    "\n",
    "vowels = ['a', 'e', 'i', 'o', 'u']\n",
    "words = ['rhythm', 'owl', 'hymn', 'aardvark']\n",
    "\n",
    "for word in words:\n",
    "    has_vowel = False\n",
    "    for letter in word:\n",
    "        if letter in vowels: \n",
    "            has_vowel = True\n",
    "            break # Not necessary, but is more efficient\n",
    "    \n",
    "    if has_vowel:\n",
    "        print(word, 'has a vowel')\n",
    "    else:\n",
    "        print(word, 'has no vowels')"
   ]
  },
  {
   "cell_type": "code",
   "execution_count": 33,
   "id": "e6306ebb",
   "metadata": {},
   "outputs": [
    {
     "name": "stdout",
     "output_type": "stream",
     "text": [
      "True\n",
      "False\n",
      "True\n",
      "False\n",
      "False\n"
     ]
    }
   ],
   "source": [
    "# Given a tuple, write a program to check if the value at index i is equal to the square of i.\n",
    "# Example: If the input is nums = (0, 2, 4, 6, 8), then the desired output is\n",
    "#\n",
    "# True\n",
    "# False\n",
    "# True\n",
    "# False\n",
    "# False\n",
    "#\n",
    "# Because nums[0] = 0^2 and nums[2] = 4 = 2^2. HINT: Use enumerate!\n",
    "\n",
    "nums = (0, 2, 4, 6, 8)\n",
    "for i, num in enumerate(nums): print(num == i * i)\n",
    "    \n",
    "for i in range(len(nums)):\n",
    "    num = nums[i]"
   ]
  },
  {
   "cell_type": "markdown",
   "id": "0d4ee6b0",
   "metadata": {},
   "source": [
    "#### 4.1.2 Slicing"
   ]
  },
  {
   "cell_type": "code",
   "execution_count": 12,
   "id": "86f83d27",
   "metadata": {},
   "outputs": [
    {
     "name": "stdout",
     "output_type": "stream",
     "text": [
      "nCe\n"
     ]
    }
   ],
   "source": [
    "# Slicing is one of the operations that work on all of them.\n",
    "\n",
    "# Task 1: Given a string s whose length is odd and at least 5, can you print \n",
    "# the middle three characters of it? Try to do it in one line.\n",
    "# Example: if the input is 'PrInCeToN', the the output should be 'nCe'\n",
    "s = 'PrInCeToN'\n",
    "print(s[len(s) // 2 - 1 : len(s) // 2 + 2])"
   ]
  },
  {
   "cell_type": "code",
   "execution_count": 19,
   "id": "126a2a79",
   "metadata": {
    "scrolled": true
   },
   "outputs": [
    {
     "name": "stdout",
     "output_type": "stream",
     "text": [
      "(4, 'cow', 9.4)\n",
      "(4, 'cow', 9.4)\n",
      "(4, 'cow', 9.4)\n"
     ]
    }
   ],
   "source": [
    "# Task 2: Given a tuple, return a tuple that includes only every other element, starting\n",
    "# from the first. Example: if the input is (4, 5, 'cow', True, 9.4), then the output should\n",
    "# be (4, 'cow', 9.4). Again, try to do it in one line — there's an easy way to do it with slicing.\n",
    "\n",
    "t = (4, 5, 'cow', True, 9.4)\n",
    "print(t[::2])\n",
    "print(t[0::2]) # also acceptable\n",
    "print(t[0:len(t):2]) # also acceptable, but less ideal"
   ]
  },
  {
   "cell_type": "code",
   "execution_count": 20,
   "id": "a2f2ce11",
   "metadata": {},
   "outputs": [
    {
     "name": "stdout",
     "output_type": "stream",
     "text": [
      "('Tiger', 0, 9)\n"
     ]
    }
   ],
   "source": [
    "# Task 3: Do the same as task 2, except start from the last element and alternate backwards.\n",
    "# Example: if the input is (3, 9, 1, 0, True, 'Tiger'), output should be ('Tiger', 0, 9)\n",
    "\n",
    "t = (3, 9, 1, 0, True, 'Tiger')\n",
    "print(t[::-2])"
   ]
  },
  {
   "cell_type": "markdown",
   "id": "3a8d29db",
   "metadata": {},
   "source": [
    "### 4.2 List Comprehension and Other Useful List Functions"
   ]
  },
  {
   "cell_type": "code",
   "execution_count": 27,
   "id": "7ae3467e",
   "metadata": {},
   "outputs": [
    {
     "name": "stdout",
     "output_type": "stream",
     "text": [
      "['Nalin Ranjan', 'Howard Yen', 'Henry Tang', 'Austen Mazenko', 'Michael Tang', 'Dangely Canabal', 'Vicky Feng']\n"
     ]
    }
   ],
   "source": [
    "# Task 1: Given a list of names, return a new list where all the names which are more than 15\n",
    "# characters long are removed.\n",
    "\n",
    "names = ['Nalin Ranjan', 'Howard Yen', 'Sacheth Sathyanarayanan', 'Henry Tang', \\\n",
    "         'Austen Mazenko', 'Michael Tang', 'Dangely Canabal', 'Vicky Feng']\n",
    "\n",
    "# Write your solution below\n",
    "print([name for name in names if len(name) <= 15])"
   ]
  },
  {
   "cell_type": "code",
   "execution_count": 35,
   "id": "4bad8b9e",
   "metadata": {
    "scrolled": false
   },
   "outputs": [
    {
     "name": "stdout",
     "output_type": "stream",
     "text": [
      "['yadrutaS', 'a no', 'kcolc-o', 'enin', 'stI']\n",
      "['yadrutaS', 'a no', 'kcolc-o', 'enin', 'stI']\n"
     ]
    }
   ],
   "source": [
    "# Task 2: Given a list of strings, return a list which is the reverse of the original, with\n",
    "# all the strings reversed. Example: if the input is ['Its', 'nine', 'o-clock', 'on a', 'Saturday'],\n",
    "# then the output should be ['yadrutaS', 'a no', 'kcolc-o', 'enin', 'stI']. Try to do it in one line!\n",
    "\n",
    "# HINT: Use list comprehension and negative indices!\n",
    "\n",
    "l = ['Its', 'nine', 'o-clock', 'on a', 'Saturday']\n",
    "print([word[::-1] for word in l[::-1]]) \n",
    "print([l[-i][::-1] for i in range(1, len(l) + 1)]) # Also acceptable, but a little less ideal"
   ]
  },
  {
   "cell_type": "code",
   "execution_count": 3,
   "id": "a17d31ed",
   "metadata": {},
   "outputs": [
    {
     "name": "stdout",
     "output_type": "stream",
     "text": [
      "[5, 2, 6, 1, 8, 2, 4, 3]\n",
      "[5, 7, 2, 6, 1, 8, 2, 4, 3]\n",
      "[5, 7, 6, 1, 8, 2, 4, 3]\n",
      "[5, 7, 6, 1, 2, 4, 3]\n",
      "[1, 2, 3, 4, 5, 6, 7]\n",
      "[7, 6, 5, 4, 3, 2, 1]\n",
      "1\n",
      "[7, 6, 5, 4, 3, 2, 1, 6, 1, 2, 4]\n",
      "Sum: 41\n",
      "Minimum: 1\n",
      "Maximum: 7\n"
     ]
    }
   ],
   "source": [
    "l1 = [5, 2, 6, 1, 8, 2, 4]\n",
    "l2 = [6, 1, 2, 4]\n",
    "\n",
    "# Python has a bunch of useful built-in list functions. Some of them are\n",
    "\n",
    "l1.append(3) # adds the element 3 to the end of the the list\n",
    "print(l1)\n",
    "\n",
    "l1.insert(1, 7) # adds the element 7 as the second element of the list\n",
    "print(l1)\n",
    "\n",
    "l1.remove(2) # Removes the first occurrence of 7 in the list (DOES NOT REMOVE ALL)\n",
    "print(l1)\n",
    "\n",
    "l1.pop(4) # Remove the fifth item of the list (since everything is zero-indexed)\n",
    "print(l1)\n",
    "\n",
    "l1.sort() # Sorts the list in increasing order\n",
    "print(l1)\n",
    "\n",
    "l1.sort(reverse=True) # Sorts the list in decreasing order\n",
    "print(l1)\n",
    "\n",
    "print(l1.count(2)) # Counts the number of occurrences of the number 2 in the list\n",
    "\n",
    "l1.extend(l2) # Appends all elements in l2 to the end of l1\n",
    "print(l1)\n",
    "\n",
    "# If the list is numeric, we can find the min, max, and sum easily:\n",
    "print('Sum:', sum(l1))\n",
    "print('Minimum:', min(l1))\n",
    "print('Maximum:', max(l1))\n",
    "\n",
    "# You can see all the list methods at https://www.w3schools.com/python/python_ref_list.asp"
   ]
  },
  {
   "cell_type": "markdown",
   "id": "efdfe550",
   "metadata": {},
   "source": [
    "### 4.3 Sets and Dictionaries"
   ]
  },
  {
   "cell_type": "code",
   "execution_count": 41,
   "id": "77a40840",
   "metadata": {},
   "outputs": [
    {
     "name": "stdout",
     "output_type": "stream",
     "text": [
      "{'sign-in', 'bicker', '???'}\n",
      "{'sign-in', 'bicker', '???'}\n"
     ]
    }
   ],
   "source": [
    "# Task 1: In a dictionary, keys must be unique, but values need not be. Given a dictionary, write a script\n",
    "# that prints the set of all unique values in a dictionary. Example: if the dictionary is\n",
    "# {'Cap': 'bicker', 'Quad': 'sign-in', 'Colonial': 'sign-in', 'Tower': 'bicker', 'Charter': '???'}\n",
    "# The program should print {'sign-in', 'bicker', '???'}\n",
    "\n",
    "d = {'Cap': 'bicker', 'Quad': 'sign-in', 'Colonial': 'sign-in', 'Tower': 'bicker', 'Charter': '???'}\n",
    "unique_vals = set()\n",
    "for key in d: \n",
    "    unique_vals.add(d[key])\n",
    "\n",
    "print(unique_vals)\n",
    "\n",
    "# In fact, there's a more Pythonic way to do this in one line:\n",
    "print(set([val for val in d.values()]))\n",
    "\n",
    "# We used list comprehension to put every value into a list (which may have contained duplicates)\n",
    "# and then converting it to a set removed the duplicates (since every element in a set must be unique)."
   ]
  },
  {
   "cell_type": "code",
   "execution_count": 48,
   "id": "346a2d0e",
   "metadata": {},
   "outputs": [
    {
     "name": "stdout",
     "output_type": "stream",
     "text": [
      "[('e', 69), ('t', 48), ('i', 45), ('o', 44), ('s', 42), ('a', 28), ('h', 27), ('r', 27), ('n', 22), ('w', 21), ('f', 19), ('d', 13), ('g', 13), ('l', 11), ('p', 10), ('c', 7), ('b', 5), ('m', 5), ('u', 5), ('v', 5), ('y', 4), ('k', 2), ('j', 0), ('q', 0), ('x', 0), ('z', 0)]\n"
     ]
    }
   ],
   "source": [
    "# Task 2: Given a passage of text (a string), analyze the frequency of each individual letter. Sort\n",
    "# the letters by their frequency in the passage. Does your distribution look reasonable for English?\n",
    "\n",
    "passage = \"\"\"it was the best of times, it was the worst of times, it was the age of wisdom, it was \n",
    "            the age of foolishness, it was the epoch of belief, it was the epoch of incredulity, it was \n",
    "            the season of Light, it was the season of Darkness, it was the spring of hope, it was the \n",
    "            winter of despair, we had everything before us, we had nothing before us, we were all going \n",
    "            direct to Heaven, we were all going direct the other way -- in short, the period was so far \n",
    "            like the present period that some of its noisiest authorities insisted on its being received, \n",
    "            for good or for evil, in the superlative degree of comparison only\"\"\"\n",
    "\n",
    "# Here's the alphabet to help you out; it'll help you ignore other characters\n",
    "alphabet = \"abcdefghijklmnopqrstuvwxyz\"\n",
    "\n",
    "# This adds a key in the dictionary for each letter of the alphabet\n",
    "d = dict.fromkeys(alphabet, 0)\n",
    "\n",
    "for char in passage:\n",
    "    if char in alphabet: d[char] += 1\n",
    "\n",
    "# Don't change the code below: it'll take your dictionary of frequencies and sort it from most frequent to least\n",
    "freqs = [(letter, d[letter]) for letter in d]\n",
    "freqs.sort(key = lambda x: x[1], reverse=True)\n",
    "\n",
    "print(freqs)"
   ]
  },
  {
   "cell_type": "markdown",
   "id": "1f290d66",
   "metadata": {},
   "source": [
    "## Topic 5: Functions in Python"
   ]
  },
  {
   "cell_type": "markdown",
   "id": "37b57d79",
   "metadata": {},
   "source": [
    "### 5.1 Practice with Basic Functions"
   ]
  },
  {
   "cell_type": "code",
   "execution_count": 109,
   "id": "af5153b4",
   "metadata": {},
   "outputs": [
    {
     "name": "stdout",
     "output_type": "stream",
     "text": [
      "Minimum of 6, 3, 7 is 3\n",
      "Minimum of 0, 3.333, -52 is -52\n",
      "Minimum of -3, -1, 3.14159 is -3\n"
     ]
    }
   ],
   "source": [
    "# Task 1: Write a function that returns the minimum of three numbers. Don't use the built-in min function\n",
    "def my_min(a, b, c):\n",
    "    if a <= b:\n",
    "        return a if a <= c else c\n",
    "    else:\n",
    "        return b if b <= c else c\n",
    "    \n",
    "print('Minimum of 6, 3, 7 is', my_min(6, 3, 7))\n",
    "print('Minimum of 0, 3.333, -52 is', my_min(0, -52, 3.333))\n",
    "print('Minimum of -3, -1, 3.14159 is', my_min(-3, -1, 3.14159))"
   ]
  },
  {
   "cell_type": "code",
   "execution_count": 113,
   "id": "c077fed4",
   "metadata": {},
   "outputs": [
    {
     "name": "stdout",
     "output_type": "stream",
     "text": [
      "(1, 2, 3, 4, 5, 7, 8) is increasing: True\n",
      "(1, 2, 3, 2, 5, 7, 8) is increasing: False\n",
      "(-1, 2, 3, 2.99, 5, 7, 8) is increasing: False\n"
     ]
    }
   ],
   "source": [
    "# Task 2: Write a function that checks if a given tuple of numbers is increasing (that is, each number\n",
    "# is at least the number before it)\n",
    "\n",
    "def my_increasing(t):\n",
    "    if len(t) == 0: return True\n",
    "    \n",
    "    prev = t[0]\n",
    "    for i in t:\n",
    "        if i < prev: return False\n",
    "        prev = i\n",
    "        \n",
    "    return True\n",
    "\n",
    "print('(1, 2, 3, 4, 5, 7, 8) is increasing:', my_increasing((1, 2, 3, 4, 5, 7, 8)))\n",
    "print('(1, 2, 3, 2, 5, 7, 8) is increasing:', my_increasing((1, 2, 3, 2, 5, 7, 8)))\n",
    "print('(-1, 2, 3, 2.99, 5, 7, 8) is increasing:', my_increasing((1, 2, 3, 2, 5, 7, 8)))"
   ]
  },
  {
   "cell_type": "code",
   "execution_count": 118,
   "id": "44f7c217",
   "metadata": {},
   "outputs": [
    {
     "name": "stdout",
     "output_type": "stream",
     "text": [
      "3\n",
      "1\n"
     ]
    }
   ],
   "source": [
    "# Task 3: Given a list of numbers that is guaranteed to contain all but one of the consecutive integers\n",
    "# 1 to N (for some N), find the one that is missing. For example, if the input is [2, 1, 5, 4], your function\n",
    "# should return 3, because that's the number missing from 1-5.\n",
    "\n",
    "def my_missing(l):\n",
    "    s = sum(l)\n",
    "    n = len(l) + 1\n",
    "    return n * (n + 1) // 2 - s # Why does this work?\n",
    "\n",
    "print(my_missing([2, 1, 5, 4]))\n",
    "print(my_missing([3, 4, 6, 2, 5, 7, 9, 8]))"
   ]
  },
  {
   "cell_type": "markdown",
   "id": "4927ea14",
   "metadata": {},
   "source": [
    "### 5.2 Recursion"
   ]
  },
  {
   "cell_type": "code",
   "execution_count": 51,
   "id": "1ead05cf",
   "metadata": {},
   "outputs": [
    {
     "name": "stdout",
     "output_type": "stream",
     "text": [
      "9227465\n"
     ]
    }
   ],
   "source": [
    "# Task: The sequence of Fibonacci numbers starts with the numbers 1 and 1 and every subsequent term\n",
    "# is the sum of the previous two terms. So the sequence is 1, 1, 2, 3, 5, 8, 13, 21, 34, 55, 87, 144, ...\n",
    "# Can you write a simple recursive function that calculates the nth Fibonacci number?\n",
    "\n",
    "# WARNING: Don't call your function for anything more than 35 or pass a non-integer parameter. \n",
    "# Your notebook might crash if you do.\n",
    "\n",
    "def fib(n):\n",
    "    if n == 1 or n == 2: return 1\n",
    "    \n",
    "    return fib(n - 1) + fib(n - 2)\n",
    "\n",
    "print(fib(35))"
   ]
  },
  {
   "cell_type": "markdown",
   "id": "3df824f1",
   "metadata": {},
   "source": [
    "### 5.3 Memoization"
   ]
  },
  {
   "cell_type": "code",
   "execution_count": 56,
   "id": "132cbe1d",
   "metadata": {},
   "outputs": [
    {
     "name": "stdout",
     "output_type": "stream",
     "text": [
      "354224848179261915075\n"
     ]
    }
   ],
   "source": [
    "# Part of the reason that we told you not to run your answer for 5.2 for large n is because the number of\n",
    "# function calls generated is exponentially large: for n = 35, the number of function calls you have is on\n",
    "# the order of 34 billion, which is a lot, even for a computer! If you did n = 75, the number of calls you\n",
    "# would make is approximately 37 sextillion, which is more than the number of seconds until the heat death\n",
    "# of the sun. \n",
    "\n",
    "# You can avert this issue, however, if you **memoize** your function, which is just a fancy way of saying\n",
    "# that you can remember values of your function instead of having to re-evaluate your function again. Python\n",
    "# has a handy memoization tool:\n",
    "\n",
    "from functools import lru_cache\n",
    "\n",
    "@lru_cache\n",
    "def fib(n):\n",
    "    if n == 1 or n == 2: return 1\n",
    "    \n",
    "    return fib(n - 1) + fib(n - 2)\n",
    "\n",
    "print(fib(100)) # Works no problem!\n",
    "\n",
    "# All we had to do was add the import statement and 'decorate' the function we wanted to remember\n",
    "# values from with the line @lru_cache"
   ]
  },
  {
   "cell_type": "markdown",
   "id": "45aa0659",
   "metadata": {},
   "source": [
    "## Topic 6: Classes in Python"
   ]
  },
  {
   "cell_type": "markdown",
   "id": "13a6a24f",
   "metadata": {},
   "source": [
    "### 6.1 Practice Writing Basic Classes"
   ]
  },
  {
   "cell_type": "code",
   "execution_count": 78,
   "id": "0aba78c6",
   "metadata": {},
   "outputs": [
    {
     "name": "stdout",
     "output_type": "stream",
     "text": [
      "Name: Nalin Ranjan\n",
      "Year: 2022\n",
      "Concentration: COS\n",
      "Clubs: []\n",
      "Dining Halls from Most Favorite to Least: ['RoMa', 'Forbes', 'CJL', 'Whitman', 'WuCox']\n",
      "\n",
      "\n",
      "Name: Nalin Ranjan\n",
      "Year: 2022\n",
      "Concentration: COS\n",
      "Clubs: ['ACM', 'Taekwondo', 'Princeton Legal Journal', 'Badminton']\n",
      "Dining Halls from Most Favorite to Least: ['RoMa', 'Forbes', 'CJL', 'Whitman', 'WuCox']\n",
      "\n",
      "\n",
      "Name: Sacheth Sathyanarayanan\n",
      "Year: 2022\n",
      "Concentration: COS\n",
      "Clubs: ['ACM', 'Table Tennis']\n",
      "Dining Halls from Most Favorite to Least: ['CJL', 'RoMa', 'Forbes', 'Whitman', 'WuCox']\n",
      "\n",
      "Sacheth had a great meal at Whitman! It is now his favorite.\n",
      "\n",
      "Name: Sacheth Sathyanarayanan\n",
      "Year: 2022\n",
      "Concentration: COS\n",
      "Clubs: ['ACM', 'Table Tennis']\n",
      "Dining Halls from Most Favorite to Least: ['Whitman', 'CJL', 'RoMa', 'Forbes', 'WuCox']\n",
      "\n",
      "Sacheth is the same student as Nalin: False\n",
      "Sacheth's name comes before Nalin's: False\n"
     ]
    }
   ],
   "source": [
    "# Write a PrincetonStudent class, where a PrincetonStudent has a name, major, year,\n",
    "# set of clubs, and a preference ordering of dining halls. We want to have\n",
    "#\n",
    "# - a default constructor that initializes the PrincetonStudent with a name, major, PUID, year, no clubs,\n",
    "#   and a random preference ordering of dining halls\n",
    "# - a special constructor (class method) called detailed_student that initializes a PrincetonStudent \n",
    "#   with a name, major, year,\n",
    "#   a specific set of clubs, and a particular preference ordering of dining halls\n",
    "# - a __str__() method that prints all the data of the student\n",
    "# - a move_dhall_to_top() function that takes a dhall and moves it to the top\n",
    "#   of one's dining hall preference list\n",
    "# - a __lt__() method that returns true if and only if this student has a name that comes before\n",
    "#   the other's alphabetically\n",
    "# - an __eq__() method that returns true if and only if the PUIDs of students are equal \n",
    "\n",
    "# HINT: To generate a random dining hall preference order, you can take a particular preference order\n",
    "# and shuffle it using the random.shuffle(list) function\n",
    "\n",
    "from random import shuffle\n",
    "\n",
    "class PrincetonStudent():\n",
    "    def __init__(self, name, major, puid, year):\n",
    "        self.name = name\n",
    "        self.major = major\n",
    "        self.year = year\n",
    "        self.puid = puid\n",
    "        self.clubs = []\n",
    "        \n",
    "        # From least preferred to most\n",
    "        self.dhall_pref = ['WuCox', 'Whitman', 'Forbes', 'CJL', 'RoMa']\n",
    "        shuffle(self.dhall_pref)\n",
    "        \n",
    "    @classmethod\n",
    "    # Initialize a student with name, major, year, specific set of clubs, and a dhall preference ordering\n",
    "    def detailed_student(cls, name, major, puid, year, clubs, dhall_pref):\n",
    "        new_student = PrincetonStudent(name, major, puid, year)\n",
    "        new_student.clubs = clubs\n",
    "        new_student.dhall_pref = dhall_pref\n",
    "        \n",
    "        return new_student\n",
    "        \n",
    "    def move_dhall_to_top(self, dhall):\n",
    "        if dhall in self.dhall_pref:\n",
    "            move_to_top = self.dhall_pref.remove(dhall)\n",
    "            self.dhall_pref.append(dhall)\n",
    "        \n",
    "    # Returns a string description of the student. This allows us to call print(...) on a\n",
    "    # PrincetonStudent and get an intelligible result\n",
    "    def __str__(self):\n",
    "        str_version = \"Name: \" + self.name + \"\\n\"\n",
    "        str_version += \"Year: \" + str(self.year) + \"\\n\"\n",
    "        str_version += \"Concentration: \" + self.major + \"\\n\"\n",
    "        str_version += \"Clubs: \" + str(self.clubs) + \"\\n\"\n",
    "        str_version += \"Dining Halls from Most Favorite to Least: \" + str(self.dhall_pref[::-1]) + \"\\n\"\n",
    "        \n",
    "        return str_version\n",
    "    \n",
    "    def __lt__(self, other):\n",
    "        return (self.name.lower() < other.name.lower()) # This works because string comparison \n",
    "                                                        # is automatically alphabetical\n",
    "        \n",
    "        \n",
    "# Test your PrincetonStudent class using this test suite. Feel free to write your own too!\n",
    "nalin = PrincetonStudent('Nalin Ranjan', 'COS', '123456789', 2022)\n",
    "print(nalin, end=\"\\n\\n\")\n",
    "\n",
    "nalin.clubs.extend(['ACM', 'Taekwondo', 'Princeton Legal Journal', 'Badminton'])\n",
    "print(nalin, end=\"\\n\\n\")\n",
    "\n",
    "sacheth_clubs = ['ACM', 'Table Tennis']\n",
    "sacheth_prefs = ['WuCox', 'Whitman', 'Forbes', 'RoMa', 'CJL']\n",
    "sacheth = PrincetonStudent.detailed_student('Sacheth Sathyanarayanan', 'COS', \\\n",
    "                                '24681012', 2022, sacheth_clubs, sacheth_prefs)\n",
    "print(sacheth)\n",
    "\n",
    "print('Sacheth had a great meal at Whitman! It is now his favorite.\\n')\n",
    "sacheth.move_dhall_to_top('Whitman')\n",
    "print(sacheth)\n",
    "\n",
    "print('Sacheth is the same student as Nalin:', sacheth == nalin)\n",
    "print('Sacheth\\'s name comes before Nalin\\'s:', sacheth < nalin)"
   ]
  },
  {
   "cell_type": "markdown",
   "id": "bba8a9a2",
   "metadata": {},
   "source": [
    "### 6.2 Inheritance"
   ]
  },
  {
   "cell_type": "code",
   "execution_count": 90,
   "id": "67e8cec4",
   "metadata": {},
   "outputs": [
    {
     "name": "stdout",
     "output_type": "stream",
     "text": [
      "Name: Nalin Ranjan\n",
      "Year: 2022\n",
      "Concentration: COS\n",
      "Clubs: []\n",
      "Dining Halls from Most Favorite to Least: ['WuCox', 'CJL', 'Forbes', 'RoMa', 'Whitman']\n",
      "Position on the ACM Board: Chair\n",
      "Term expires in: 2022\n",
      "\n",
      "\n",
      "Name: Nalin Ranjan\n",
      "Year: 2022\n",
      "Concentration: COS\n",
      "Clubs: ['ACM', 'Taekwondo', 'Princeton Legal Journal', 'Badminton']\n",
      "Dining Halls from Most Favorite to Least: ['WuCox', 'CJL', 'Forbes', 'RoMa', 'Whitman']\n",
      "Position on the ACM Board: Chair\n",
      "Term expires in: 2022\n",
      "\n",
      "\n",
      "Name: Sacheth Sathyanarayanan\n",
      "Year: 2022\n",
      "Concentration: COS\n",
      "Clubs: ['ACM', 'Table Tennis']\n",
      "Dining Halls from Most Favorite to Least: ['CJL', 'RoMa', 'Forbes', 'Whitman', 'WuCox']\n",
      "Position on the ACM Board: Treasurer\n",
      "Term expires in: 2022\n",
      "\n",
      "Sacheth had a great meal at Whitman! It is now his favorite.\n",
      "\n",
      "Name: Sacheth Sathyanarayanan\n",
      "Year: 2022\n",
      "Concentration: COS\n",
      "Clubs: ['ACM', 'Table Tennis']\n",
      "Dining Halls from Most Favorite to Least: ['Whitman', 'CJL', 'RoMa', 'Forbes', 'WuCox']\n",
      "Position on the ACM Board: Treasurer\n",
      "Term expires in: 2022\n",
      "\n",
      "Sacheth is the same student as Nalin: False\n",
      "Sacheth's name comes before Nalin's: False\n"
     ]
    }
   ],
   "source": [
    "# Write an ACMOfficer class that inherits the PrincetonStudent class. An ACMOfficer has every attribute\n",
    "# a PrincetonStudent has, and also a position and term expiration date. You'll only need to overwrite\n",
    "# the constructors to accommodate these two additions. Remember that you can still call the parent's \n",
    "# functions as subroutines.\n",
    "\n",
    "class ACMOfficer(PrincetonStudent):\n",
    "    def __init__(self, name, major, puid, year, acm_pos, acm_term_exp):\n",
    "        PrincetonStudent.__init__(self, name, major, puid, year)\n",
    "        self.acm_pos = acm_pos\n",
    "        self.acm_term_exp = acm_term_exp\n",
    "        \n",
    "    @classmethod\n",
    "    def detailed_officer(cls, name, major, puid, year, clubs, dhall_pref, acm_pos, acm_term_exp):\n",
    "        new_officer = ACMOfficer(name, major, puid, year, acm_pos, acm_term_exp)\n",
    "        new_officer.clubs = clubs\n",
    "        new_officer.dhall_pref = dhall_pref\n",
    "        \n",
    "        return new_officer\n",
    "    \n",
    "    def __str__(self):\n",
    "        str_version = PrincetonStudent.__str__(self)\n",
    "        str_version += \"Position on the ACM Board: \" + self.acm_pos + \"\\n\"\n",
    "        str_version += \"Term expires in: \" + str(self.acm_term_exp) + \"\\n\"\n",
    "        \n",
    "        return str_version\n",
    "        \n",
    "# Test your PrincetonStudent class using this test suite. Feel free to write your own too!\n",
    "nalin = ACMOfficer('Nalin Ranjan', 'COS', '123456789', 2022, 'Chair', 2022)\n",
    "print(nalin, end=\"\\n\\n\")\n",
    "\n",
    "nalin.clubs.extend(['ACM', 'Taekwondo', 'Princeton Legal Journal', 'Badminton'])\n",
    "print(nalin, end=\"\\n\\n\")\n",
    "\n",
    "sacheth_clubs = ['ACM', 'Table Tennis']\n",
    "sacheth_prefs = ['WuCox', 'Whitman', 'Forbes', 'RoMa', 'CJL']\n",
    "sacheth = ACMOfficer.detailed_officer('Sacheth Sathyanarayanan', 'COS', '24681012', \n",
    "                                      2022, sacheth_clubs, sacheth_prefs, 'Treasurer', 2022)\n",
    "print(sacheth)\n",
    "\n",
    "print('Sacheth had a great meal at Whitman! It is now his favorite.\\n')\n",
    "sacheth.move_dhall_to_top('Whitman')\n",
    "print(sacheth)\n",
    "\n",
    "print('Sacheth is the same student as Nalin:', sacheth == nalin)\n",
    "print('Sacheth\\'s name comes before Nalin\\'s:', sacheth < nalin)"
   ]
  },
  {
   "cell_type": "markdown",
   "id": "983feed5",
   "metadata": {},
   "source": [
    "## Topic 7: Using Existing Python Libraries"
   ]
  },
  {
   "cell_type": "markdown",
   "id": "1355d3b2",
   "metadata": {},
   "source": [
    "Sigmoid activation functions are ubiquitous in machine learning. They all look somewhat like an S shape, starting\n",
    "out flat, and then somewhere in the middle jumping pretty quickly before leveling off. One example is the **Gudermannian Function**, which takes the form\n",
    "\n",
    "$$f(x, \\gamma) = \\gamma \\arctan \\left(\\tanh \\left( \\frac x \\gamma \\right) \\right)$$\n",
    "\n",
    "for some value $\\gamma$. You can think of $\\gamma$ as a parameter that specifies \"which\" Gudermannian function we're talking about. Can you plot the Gudermannian Function in the range $[-5, 5]$ with $\\gamma = \\{2, 4, 6\\}$? You will need access to `numpy` to find implementations of the arctan and tanh functions, and you will need `matplotlib` to create the actual plot.\n",
    "\n",
    "HINT: Since we have three different values of $\\gamma$, we'll have three different curves on the same graph."
   ]
  },
  {
   "cell_type": "code",
   "execution_count": 104,
   "id": "d07cb104",
   "metadata": {},
   "outputs": [
    {
     "data": {
      "text/plain": [
       "<matplotlib.legend.Legend at 0x11d0eaa30>"
      ]
     },
     "execution_count": 104,
     "metadata": {},
     "output_type": "execute_result"
    },
    {
     "data": {
      "image/png": "[encoded data removed]",
      "text/plain": [
       "<Figure size 432x288 with 1 Axes>"
      ]
     },
     "metadata": {
      "needs_background": "light"
     },
     "output_type": "display_data"
    }
   ],
   "source": [
    "# Numpy contains many mathematical functions/data analysis tools you might want to use\n",
    "import numpy as np\n",
    "\n",
    "# First: Write a function that returns the Gudermannian function evaluated at x.\n",
    "def gudermannian(x, gamma):\n",
    "    return gamma * np.arctan(np.tanh(x / gamma))\n",
    "\n",
    "# Next: use matplotlib to plot the function. HINT: Use matplotlib.pyplot\n",
    "from matplotlib import pyplot as plt # You'll refer to pyplot as plt from now on\n",
    "\n",
    "# HINT: pyplot requires that you have a set of x-values and a corresponding set of y-values.\n",
    "# To make your plot look like a continuous curve, just make your x-values close enough (say in\n",
    "# increments of 0.01). You'll have to use numpy's arange function (Google it!)\n",
    "x_vals = np.arange(-5, 5, 0.01)\n",
    "\n",
    "# Then, you'll have to make a set of y values for each gamma. HINT: If f(x) is a function\n",
    "# defined on a single number, then running it on x_vals evaluates the function at every x value\n",
    "# in x_vals. \n",
    "\n",
    "plt.plot(x_vals, gudermannian(x_vals, 2), label='gamma = 2')\n",
    "plt.plot(x_vals, gudermannian(x_vals, 4), label='gamma = 4')\n",
    "plt.plot(x_vals, gudermannian(x_vals, 6), label='gamma = 6')\n",
    "plt.legend()"
   ]
  }
 ],
 "metadata": {
  "kernelspec": {
   "display_name": "Python 3 (ipykernel)",
   "language": "python",
   "name": "python3"
  },
  "language_info": {
   "codemirror_mode": {
    "name": "ipython",
    "version": 3
   },
   "file_extension": ".py",
   "mimetype": "text/x-python",
   "name": "python",
   "nbconvert_exporter": "python",
   "pygments_lexer": "ipython3",
   "version": "3.9.1"
  }
 },
 "nbformat": 4,
 "nbformat_minor": 5
}
